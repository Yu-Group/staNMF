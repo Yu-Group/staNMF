{
 "cells": [
  {
   "cell_type": "markdown",
   "metadata": {},
   "source": [
    "# 03 PCA Example"
   ]
  },
  {
   "cell_type": "markdown",
   "metadata": {},
   "source": [
    "The same stability criterion can be used for PCA, too."
   ]
  },
  {
   "cell_type": "code",
   "execution_count": 39,
   "metadata": {},
   "outputs": [],
   "source": [
    "from staNMF import staNMF\n",
    "import numpy as np\n",
    "import matplotlib.pyplot as plt\n",
    "from joblib import load\n",
    "from staNMF.main import amariMaxError, findcorrelation\n",
    "from sklearn.decomposition import PCA\n",
    "import scipy as sp"
   ]
  },
  {
   "cell_type": "code",
   "execution_count": 78,
   "metadata": {},
   "outputs": [],
   "source": [
    "# load data\n",
    "n_features = 10\n",
    "n_samples = 400\n",
    "n_components = 5\n",
    "V = np.random.normal(0, 1, (n_components, n_features))\n",
    "U = np.random.normal(0, 1, (n_samples, n_components))\n",
    "X = (\n",
    "    U @ np.diag(1 / np.arange(1, n_components + 1) ** .3) @ V \n",
    "    + np.random.normal(0,1,(n_samples, n_features)) * 0.1\n",
    ")"
   ]
  },
  {
   "cell_type": "code",
   "execution_count": 79,
   "metadata": {},
   "outputs": [
    {
     "data": {
      "text/plain": [
       "[<matplotlib.lines.Line2D at 0x7fa0dd40cef0>]"
      ]
     },
     "execution_count": 79,
     "metadata": {},
     "output_type": "execute_result"
    },
    {
     "data": {
      "image/png": "[encoded data removed]",
      "text/plain": [
       "<Figure size 432x288 with 1 Axes>"
      ]
     },
     "metadata": {},
     "output_type": "display_data"
    }
   ],
   "source": [
    "# visualize the eigvalue of X\n",
    "eigen_value, _ = np.linalg.eig(X.T @ X)\n",
    "plt.plot(eigen_value.cumsum() / np.sum(eigen_value), '-*')"
   ]
  },
  {
   "cell_type": "code",
   "execution_count": 80,
   "metadata": {},
   "outputs": [],
   "source": [
    "# define_model\n",
    "model = staNMF(X,folderID=\"toy_pca_example\", K1=3, K2=7, parallel=True, replicates=100, seed=None)"
   ]
  },
  {
   "cell_type": "code",
   "execution_count": 81,
   "metadata": {},
   "outputs": [],
   "source": [
    "class sklearn_pca(PCA):\n",
    "    '''\n",
    "    Train PCA via sklearn package\n",
    "\n",
    "    Parameteres\n",
    "    -----------\n",
    "    bootstrap : bool, optional with default False\n",
    "        Do bootstrap to X before fitting\n",
    "\n",
    "    All the parameters in sklearn PCA\n",
    "\n",
    "    Attributes\n",
    "    ----------\n",
    "    All the attributes in sklearn.decomposition._pca.PCA\n",
    "\n",
    "    Examples\n",
    "    --------\n",
    "    TODO : add an example\n",
    "\n",
    "    References\n",
    "    ----------\n",
    "    TODO : add refs to spams package\n",
    "\n",
    "    '''\n",
    "    def __init__(self, n_components=None, copy=True, whiten=False,\n",
    "                 svd_solver='auto', tol=0.0, iterated_power='auto',\n",
    "                 random_state=None, bootstrap=False):\n",
    "        self.n_components = n_components\n",
    "        self.copy = copy\n",
    "        self.whiten = whiten\n",
    "        self.svd_solver = svd_solver\n",
    "        self.tol = tol\n",
    "        self.iterated_power = iterated_power\n",
    "        self.random_state = random_state\n",
    "        self.bootstrap = bootstrap\n",
    "\n",
    "    def set_n_components(self, K):\n",
    "        self.n_components = K\n",
    "\n",
    "    def fit(self, X, y=None, **kwargs):\n",
    "        '''\n",
    "        Fit PCA model using sklearn package\n",
    "\n",
    "        Parameters\n",
    "        ----------\n",
    "        X : array, shape (n_samples, n_features)\n",
    "            Data matrix to be fitted by the model\n",
    "\n",
    "        y : ignored\n",
    "\n",
    "        bootstrap : bool, optional with default False\n",
    "            Whether bootstrap the input matrix X\n",
    "\n",
    "        Returns\n",
    "        -------\n",
    "        self\n",
    "\n",
    "        '''\n",
    "        # Set the seed for numpy.random\n",
    "        np.random.seed(self.random_state)\n",
    "\n",
    "        # Create bootstrapped X\n",
    "        if self.bootstrap:\n",
    "            n_samples = X.shape[0]\n",
    "            bootstrap_X = X[np.random.choice(\n",
    "                n_samples,\n",
    "                n_samples,\n",
    "                replace=True,\n",
    "            )]\n",
    "        else:\n",
    "            bootstrap_X = X\n",
    "\n",
    "        # Call the super fit method\n",
    "        return super(sklearn_pca, self).fit(bootstrap_X, **kwargs)\n"
   ]
  },
  {
   "cell_type": "code",
   "execution_count": 82,
   "metadata": {},
   "outputs": [
    {
     "name": "stdout",
     "output_type": "stream",
     "text": [
      "Working on K = 3...\n",
      "Working on K = 4...\n",
      "Working on K = 5...\n",
      "Working on K = 6...\n",
      "Working on K = 7...\n"
     ]
    }
   ],
   "source": [
    "# run NMF for different Ks\n",
    "model.runNMF(sklearn_pca(bootstrap=True))"
   ]
  },
  {
   "cell_type": "code",
   "execution_count": 83,
   "metadata": {},
   "outputs": [
    {
     "name": "stdout",
     "output_type": "stream",
     "text": [
      "Calculating instability for 3\n",
      "Calculating instability for 4\n",
      "Calculating instability for 5\n",
      "Calculating instability for 6\n",
      "Calculating instability for 7\n"
     ]
    }
   ],
   "source": [
    "# compute the instability\n",
    "model.instability(\"sklearn_pca\")"
   ]
  },
  {
   "cell_type": "code",
   "execution_count": 84,
   "metadata": {},
   "outputs": [
    {
     "data": {
      "image/png": "[encoded data removed]",
      "text/plain": [
       "<Figure size 432x288 with 1 Axes>"
      ]
     },
     "metadata": {},
     "output_type": "display_data"
    }
   ],
   "source": [
    "# visualize the instability result\n",
    "model.plot(dataset_title=\"sklearn stability\")"
   ]
  },
  {
   "cell_type": "code",
   "execution_count": 85,
   "metadata": {},
   "outputs": [
    {
     "data": {
      "text/plain": [
       "{3: 0.02964800477017213,\n",
       " 4: 0.02762716238081201,\n",
       " 5: 0.022620200529777756,\n",
       " 6: 0.08701227132067242,\n",
       " 7: 0.10641230259432026}"
      ]
     },
     "execution_count": 85,
     "metadata": {},
     "output_type": "execute_result"
    }
   ],
   "source": [
    "model.get_instability()"
   ]
  },
  {
   "cell_type": "markdown",
   "metadata": {},
   "source": [
    "- Observation: the staNMF chooses the right number of components."
   ]
  }
 ],
 "metadata": {
  "kernelspec": {
   "display_name": "Environment (conda_anaconda3)",
   "language": "python",
   "name": "conda_anaconda3"
  },
  "language_info": {
   "codemirror_mode": {
    "name": "ipython",
    "version": 3
   },
   "file_extension": ".py",
   "mimetype": "text/x-python",
   "name": "python",
   "nbconvert_exporter": "python",
   "pygments_lexer": "ipython3",
   "version": "3.6.5"
  }
 },
 "nbformat": 4,
 "nbformat_minor": 2
}
