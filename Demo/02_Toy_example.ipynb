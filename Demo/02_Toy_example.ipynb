{
 "cells": [
  {
   "cell_type": "markdown",
   "metadata": {},
   "source": [
    "# 02 Toy Example"
   ]
  },
  {
   "cell_type": "code",
   "execution_count": 1,
   "metadata": {},
   "outputs": [
    {
     "name": "stderr",
     "output_type": "stream",
     "text": [
      "/home/ubuntu/anaconda3/lib/python3.6/site-packages/sklearn/utils/deprecation.py:144: FutureWarning: The sklearn.decomposition.nmf module is  deprecated in version 0.22 and will be removed in version 0.24. The corresponding classes / functions should instead be imported from sklearn.decomposition. Anything that cannot be imported from sklearn.decomposition is now part of the private API.\n",
      "  warnings.warn(message, FutureWarning)\n"
     ]
    }
   ],
   "source": [
    "from staNMF import staNMF\n",
    "from staNMF.nmf_models import spams_nmf, sklearn_nmf, torch_nmf\n",
    "import numpy as np\n",
    "import matplotlib.pyplot as plt\n",
    "from joblib import load\n",
    "from staNMF.main import amariMaxError, findcorrelation"
   ]
  },
  {
   "cell_type": "code",
   "execution_count": 2,
   "metadata": {},
   "outputs": [],
   "source": [
    "# load data\n",
    "n_features = 10\n",
    "n_samples = 200\n",
    "n_components = 5\n",
    "V = (\n",
    "    np.random.uniform(0, 1, (n_components, n_features))\n",
    "    * np.random.choice([0, 1], (n_components, n_features))\n",
    ")\n",
    "U = (\n",
    "    np.random.uniform(0, 1, (n_samples, n_components))\n",
    "    * np.random.choice([0, 1], (n_samples, n_components), p=[0.8,0.2])\n",
    ")\n",
    "X = U @ V + np.random.normal(0,1,(n_samples, n_features)) * 0.1"
   ]
  },
  {
   "cell_type": "code",
   "execution_count": 17,
   "metadata": {},
   "outputs": [],
   "source": [
    "# define_model\n",
    "model = staNMF(np.maximum(X,0),folderID=\"toy_example\", K1=3, K2=7, parallel=False, replicates=50, seed=123)"
   ]
  },
  {
   "cell_type": "code",
   "execution_count": 18,
   "metadata": {},
   "outputs": [],
   "source": [
    "a = torch_nmf(\n",
    "    n_features=10,\n",
    "    n_components=1,\n",
    "    cpu_workers=4,\n",
    "    n_neurons1=500,\n",
    "    max_epochs=50,\n",
    "    bootstrap=True,\n",
    "    batch_size=50,\n",
    "    learning_rate=0.001,\n",
    "    record=True,\n",
    ")"
   ]
  },
  {
   "cell_type": "code",
   "execution_count": 19,
   "metadata": {},
   "outputs": [
    {
     "name": "stdout",
     "output_type": "stream",
     "text": [
      "Working on K = 3...\n",
      "Working on K = 4...\n",
      "Working on K = 5...\n",
      "Working on K = 6...\n",
      "Working on K = 7...\n"
     ]
    }
   ],
   "source": [
    "# run NMF for different Ks\n",
    "model.runNMF(a)#sklearn_nmf(bootstrap=True))"
   ]
  },
  {
   "cell_type": "code",
   "execution_count": 20,
   "metadata": {},
   "outputs": [
    {
     "name": "stdout",
     "output_type": "stream",
     "text": [
      "Calculating instability for 3\n",
      "Calculating instability for 4\n",
      "Calculating instability for 5\n",
      "Calculating instability for 6\n",
      "Calculating instability for 7\n"
     ]
    }
   ],
   "source": [
    "# compute the instability\n",
    "model.instability(\"torch_nmf\")"
   ]
  },
  {
   "cell_type": "code",
   "execution_count": 21,
   "metadata": {},
   "outputs": [
    {
     "data": {
      "image/png": "[encoded data removed]",
      "text/plain": [
       "<Figure size 432x288 with 1 Axes>"
      ]
     },
     "metadata": {},
     "output_type": "display_data"
    }
   ],
   "source": [
    "# visualize the instability result\n",
    "model.plot(dataset_title=\"sklearn stability\")"
   ]
  },
  {
   "cell_type": "code",
   "execution_count": 22,
   "metadata": {},
   "outputs": [
    {
     "data": {
      "text/plain": [
       "[0.10784250497817993,\n",
       " 0.09557542204856873,\n",
       " 0.07481498271226883,\n",
       " 0.052210502326488495,\n",
       " 0.037299010902643204,\n",
       " 0.030457446351647377,\n",
       " 0.02765289507806301,\n",
       " 0.026788000017404556,\n",
       " 0.026462405920028687,\n",
       " 0.026343440636992455,\n",
       " 0.026268642395734787,\n",
       " 0.026203138753771782,\n",
       " 0.026146631687879562,\n",
       " 0.026095714420080185,\n",
       " 0.026028895750641823,\n",
       " 0.02595977857708931,\n",
       " 0.025872139260172844,\n",
       " 0.02576170675456524,\n",
       " 0.02562321536242962,\n",
       " 0.02546590194106102,\n",
       " 0.0252216923981905,\n",
       " 0.02490328997373581,\n",
       " 0.024540584534406662,\n",
       " 0.024019038304686546,\n",
       " 0.02334454655647278,\n",
       " 0.02246086485683918,\n",
       " 0.02134309522807598,\n",
       " 0.020221279934048653,\n",
       " 0.01894945651292801,\n",
       " 0.017673559486865997,\n",
       " 0.01659807190299034,\n",
       " 0.015848008915781975,\n",
       " 0.015154034830629826,\n",
       " 0.014564118348062038,\n",
       " 0.014105698093771935,\n",
       " 0.01365998387336731,\n",
       " 0.013229449279606342,\n",
       " 0.012751816771924496,\n",
       " 0.012426447123289108,\n",
       " 0.011877376586198807,\n",
       " 0.011531687341630459,\n",
       " 0.011167583055794239,\n",
       " 0.0108356773853302,\n",
       " 0.010483085177838802,\n",
       " 0.010218859650194645,\n",
       " 0.009966404177248478,\n",
       " 0.009705890901386738,\n",
       " 0.009448222815990448,\n",
       " 0.009154550731182098,\n",
       " 0.008873584680259228]"
      ]
     },
     "execution_count": 22,
     "metadata": {},
     "output_type": "execute_result"
    }
   ],
   "source": [
    "a.obj_list_"
   ]
  },
  {
   "cell_type": "code",
   "execution_count": 23,
   "metadata": {},
   "outputs": [
    {
     "data": {
      "text/plain": [
       "{3: 0.09128013682580145,\n",
       " 4: 0.1050211088955299,\n",
       " 5: 0.1102674908065887,\n",
       " 6: 0.11518736225420861,\n",
       " 7: 0.11920135163657346}"
      ]
     },
     "execution_count": 23,
     "metadata": {},
     "output_type": "execute_result"
    }
   ],
   "source": [
    "model.get_instability()"
   ]
  },
  {
   "cell_type": "markdown",
   "metadata": {},
   "source": [
    "- Observation: the staNMF chooses the right number of components."
   ]
  },
  {
   "cell_type": "code",
   "execution_count": 26,
   "metadata": {},
   "outputs": [],
   "source": [
    "model = load(\"./staNMFDicts_toy_example/K=7/nmf_model_torch_nmf_0.joblib\")"
   ]
  },
  {
   "cell_type": "code",
   "execution_count": 34,
   "metadata": {},
   "outputs": [],
   "source": [
    "from sklearn.preprocessing import normalize"
   ]
  },
  {
   "cell_type": "code",
   "execution_count": 35,
   "metadata": {},
   "outputs": [
    {
     "data": {
      "text/plain": [
       "<matplotlib.image.AxesImage at 0x7fc6003854e0>"
      ]
     },
     "execution_count": 35,
     "metadata": {},
     "output_type": "execute_result"
    },
    {
     "data": {
      "image/png": "[encoded data removed]",
      "text/plain": [
       "<Figure size 432x288 with 1 Axes>"
      ]
     },
     "metadata": {},
     "output_type": "display_data"
    }
   ],
   "source": [
    "norm_V = normalize(V)# / np.sum(V ** 2, 1) ** .5\n",
    "plt.imshow(model.components_ @ norm_V.T)"
   ]
  },
  {
   "cell_type": "markdown",
   "metadata": {},
   "source": [
    "## Try sklearn nmf"
   ]
  },
  {
   "cell_type": "code",
   "execution_count": 37,
   "metadata": {},
   "outputs": [],
   "source": [
    "# define_model\n",
    "model = staNMF(np.maximum(X,0),\n",
    "               folderID=\"toy_example\",\n",
    "               K1=3, K2=7,\n",
    "               parallel=True,\n",
    "               replicates=50,\n",
    "               seed=123)"
   ]
  },
  {
   "cell_type": "code",
   "execution_count": null,
   "metadata": {},
   "outputs": [
    {
     "name": "stdout",
     "output_type": "stream",
     "text": [
      "Working on K = 3...\n"
     ]
    }
   ],
   "source": [
    "# run NMF for different Ks\n",
    "model.runNMF(sklearn_nmf(bootstrap=True))"
   ]
  },
  {
   "cell_type": "code",
   "execution_count": null,
   "metadata": {},
   "outputs": [],
   "source": [
    "# compute the instability\n",
    "model.instability(\"sklearn_nmf\")"
   ]
  },
  {
   "cell_type": "code",
   "execution_count": null,
   "metadata": {},
   "outputs": [],
   "source": [
    "# visualize the instability result\n",
    "model.plot(dataset_title=\"sklearn stability\")"
   ]
  },
  {
   "cell_type": "code",
   "execution_count": null,
   "metadata": {},
   "outputs": [],
   "source": [
    "model.get_instability()"
   ]
  },
  {
   "cell_type": "markdown",
   "metadata": {},
   "source": [
    "- Observation: the stability for patterns 3-5 is very good. For more patterns, it is less good."
   ]
  },
  {
   "cell_type": "code",
   "execution_count": 25,
   "metadata": {},
   "outputs": [],
   "source": [
    "model1 = load(\"./staNMFDicts_toy_example/K=3/nmf_model_sklearn_nmf_17.joblib\")\n",
    "model2 = load(\"./staNMFDicts_toy_example/K=3/nmf_model_sklearn_nmf_10.joblib\")"
   ]
  },
  {
   "cell_type": "code",
   "execution_count": 26,
   "metadata": {},
   "outputs": [
    {
     "data": {
      "text/plain": [
       "<matplotlib.image.AxesImage at 0x7f2449d052e8>"
      ]
     },
     "execution_count": 26,
     "metadata": {},
     "output_type": "execute_result"
    },
    {
     "data": {
      "image/png": "[encoded data removed]",
      "text/plain": [
       "<Figure size 432x288 with 1 Axes>"
      ]
     },
     "metadata": {},
     "output_type": "display_data"
    }
   ],
   "source": [
    "plt.imshow(findcorrelation(model1.components_.T, model2.components_.T))"
   ]
  }
 ],
 "metadata": {
  "kernelspec": {
   "display_name": "Environment (conda_anaconda3)",
   "language": "python",
   "name": "conda_anaconda3"
  },
  "language_info": {
   "codemirror_mode": {
    "name": "ipython",
    "version": 3
   },
   "file_extension": ".py",
   "mimetype": "text/x-python",
   "name": "python",
   "nbconvert_exporter": "python",
   "pygments_lexer": "ipython3",
   "version": "3.6.5"
  }
 },
 "nbformat": 4,
 "nbformat_minor": 2
}
