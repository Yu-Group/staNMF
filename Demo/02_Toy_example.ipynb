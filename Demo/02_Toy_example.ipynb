{
 "cells": [
  {
   "cell_type": "markdown",
   "metadata": {},
   "source": [
    "# 02 Toy Example"
   ]
  },
  {
   "cell_type": "code",
   "execution_count": 1,
   "metadata": {},
   "outputs": [
    {
     "name": "stderr",
     "output_type": "stream",
     "text": [
      "/home/ubuntu/anaconda3/lib/python3.6/site-packages/sklearn/utils/deprecation.py:144: FutureWarning: The sklearn.decomposition.nmf module is  deprecated in version 0.22 and will be removed in version 0.24. The corresponding classes / functions should instead be imported from sklearn.decomposition. Anything that cannot be imported from sklearn.decomposition is now part of the private API.\n",
      "  warnings.warn(message, FutureWarning)\n"
     ]
    }
   ],
   "source": [
    "from staNMF import staNMF\n",
    "from staNMF.nmf_models import spams_nmf, sklearn_nmf\n",
    "import numpy as np\n",
    "import matplotlib.pyplot as plt\n",
    "from joblib import load\n",
    "from staNMF.main import amariMaxError, findcorrelation"
   ]
  },
  {
   "cell_type": "code",
   "execution_count": 2,
   "metadata": {},
   "outputs": [],
   "source": [
    "# load data\n",
    "n_features = 10\n",
    "n_samples = 200\n",
    "n_components = 5\n",
    "V = (\n",
    "    np.random.uniform(0, 1, (n_components, n_features))\n",
    "    * np.random.choice([0, 1], (n_components, n_features))\n",
    ")\n",
    "U = (\n",
    "    np.random.uniform(0, 1, (n_samples, n_components))\n",
    "    * np.random.choice([0, 1], (n_samples, n_components), p=[0.8,0.2])\n",
    ")\n",
    "X = U @ V + np.random.normal(0,1,(n_samples, n_features)) * 0.1"
   ]
  },
  {
   "cell_type": "code",
   "execution_count": 5,
   "metadata": {},
   "outputs": [],
   "source": [
    "# define_model\n",
    "model = staNMF(np.maximum(X,0),folderID=\"toy_example\", K1=3, K2=7, parallel=True, replicates=20, seed=123)"
   ]
  },
  {
   "cell_type": "code",
   "execution_count": 6,
   "metadata": {},
   "outputs": [
    {
     "name": "stdout",
     "output_type": "stream",
     "text": [
      "Working on K = 3...\n",
      "Working on K = 4...\n",
      "Working on K = 5...\n",
      "Working on K = 6...\n",
      "Working on K = 7...\n"
     ]
    }
   ],
   "source": [
    "# run NMF for different Ks\n",
    "model.runNMF(sklearn_nmf(bootstrap=True))"
   ]
  },
  {
   "cell_type": "code",
   "execution_count": 9,
   "metadata": {},
   "outputs": [
    {
     "name": "stdout",
     "output_type": "stream",
     "text": [
      "Calculating instability for 3\n",
      "Calculating instability for 4\n",
      "Calculating instability for 5\n",
      "Calculating instability for 6\n",
      "Calculating instability for 7\n"
     ]
    }
   ],
   "source": [
    "# compute the instability\n",
    "model.instability(\"sklearn_nmf\")"
   ]
  },
  {
   "cell_type": "code",
   "execution_count": 10,
   "metadata": {},
   "outputs": [
    {
     "data": {
      "image/png": "[encoded data removed]",
      "text/plain": [
       "<Figure size 432x288 with 1 Axes>"
      ]
     },
     "metadata": {},
     "output_type": "display_data"
    }
   ],
   "source": [
    "# visualize the instability result\n",
    "model.plot(dataset_title=\"sklearn stability\")"
   ]
  },
  {
   "cell_type": "code",
   "execution_count": 10,
   "metadata": {},
   "outputs": [
    {
     "data": {
      "text/plain": [
       "{3: 0.004465420744401025,\n",
       " 4: 0.02604699946537865,\n",
       " 5: 9.023845935994597e-05,\n",
       " 6: 0.13755373402936658,\n",
       " 7: 0.20228858949180814}"
      ]
     },
     "execution_count": 10,
     "metadata": {},
     "output_type": "execute_result"
    }
   ],
   "source": [
    "model.get_instability()"
   ]
  },
  {
   "cell_type": "markdown",
   "metadata": {},
   "source": [
    "- Observation: the staNMF chooses the right number of components."
   ]
  },
  {
   "cell_type": "code",
   "execution_count": 11,
   "metadata": {},
   "outputs": [],
   "source": [
    "model = load(\"./staNMFDicts_toy_example/K=5/nmf_model_spams_nmf_4.joblib\")"
   ]
  },
  {
   "cell_type": "code",
   "execution_count": 12,
   "metadata": {},
   "outputs": [
    {
     "data": {
      "text/plain": [
       "<matplotlib.image.AxesImage at 0x7f7aff11a810>"
      ]
     },
     "execution_count": 12,
     "metadata": {},
     "output_type": "execute_result"
    },
    {
     "data": {
      "image/png": "[encoded data removed]",
      "text/plain": [
       "<Figure size 432x288 with 1 Axes>"
      ]
     },
     "metadata": {
      "needs_background": "light"
     },
     "output_type": "display_data"
    }
   ],
   "source": [
    "plt.imshow(model.components_ @ V.T)"
   ]
  },
  {
   "cell_type": "markdown",
   "metadata": {},
   "source": [
    "## Try sklearn nmf"
   ]
  },
  {
   "cell_type": "code",
   "execution_count": 13,
   "metadata": {},
   "outputs": [],
   "source": [
    "# define_model\n",
    "model = staNMF(np.maximum(X,0),\n",
    "               folderID=\"toy_example\",\n",
    "               K1=3, K2=7,\n",
    "               parallel=True,\n",
    "               replicates=50,\n",
    "               seed=123)"
   ]
  },
  {
   "cell_type": "code",
   "execution_count": 14,
   "metadata": {},
   "outputs": [
    {
     "name": "stdout",
     "output_type": "stream",
     "text": [
      "Working on K = 3...\n",
      "Working on K = 4...\n",
      "Working on K = 5...\n",
      "Working on K = 6...\n",
      "Working on K = 7...\n"
     ]
    }
   ],
   "source": [
    "# run NMF for different Ks\n",
    "model.runNMF(sklearn_nmf(bootstrap=True))"
   ]
  },
  {
   "cell_type": "code",
   "execution_count": 15,
   "metadata": {},
   "outputs": [
    {
     "name": "stdout",
     "output_type": "stream",
     "text": [
      "Calculating instability for 3\n",
      "Calculating instability for 4\n",
      "Calculating instability for 5\n",
      "Calculating instability for 6\n",
      "Calculating instability for 7\n"
     ]
    }
   ],
   "source": [
    "# compute the instability\n",
    "model.instability(\"sklearn_nmf\")"
   ]
  },
  {
   "cell_type": "code",
   "execution_count": 16,
   "metadata": {},
   "outputs": [
    {
     "data": {
      "image/png": "[encoded data removed]",
      "text/plain": [
       "<Figure size 432x288 with 1 Axes>"
      ]
     },
     "metadata": {
      "needs_background": "light"
     },
     "output_type": "display_data"
    }
   ],
   "source": [
    "# visualize the instability result\n",
    "model.plot(dataset_title=\"sklearn stability\")"
   ]
  },
  {
   "cell_type": "code",
   "execution_count": 17,
   "metadata": {},
   "outputs": [
    {
     "data": {
      "text/plain": [
       "{3: 0.004448424877594663,\n",
       " 4: 0.0018246975531600422,\n",
       " 5: 0.00011599177786549556,\n",
       " 6: 0.11312763344637743,\n",
       " 7: 0.14043225315625715}"
      ]
     },
     "execution_count": 17,
     "metadata": {},
     "output_type": "execute_result"
    }
   ],
   "source": [
    "model.get_instability()"
   ]
  },
  {
   "cell_type": "markdown",
   "metadata": {},
   "source": [
    "- Observation: the stability for patterns 3-5 is very good. For more patterns, it is less good."
   ]
  },
  {
   "cell_type": "code",
   "execution_count": 25,
   "metadata": {},
   "outputs": [],
   "source": [
    "model1 = load(\"./staNMFDicts_toy_example/K=3/nmf_model_sklearn_nmf_17.joblib\")\n",
    "model2 = load(\"./staNMFDicts_toy_example/K=3/nmf_model_sklearn_nmf_10.joblib\")"
   ]
  },
  {
   "cell_type": "code",
   "execution_count": 26,
   "metadata": {},
   "outputs": [
    {
     "data": {
      "text/plain": [
       "<matplotlib.image.AxesImage at 0x7f2449d052e8>"
      ]
     },
     "execution_count": 26,
     "metadata": {},
     "output_type": "execute_result"
    },
    {
     "data": {
      "image/png": "[encoded data removed]",
      "text/plain": [
       "<Figure size 432x288 with 1 Axes>"
      ]
     },
     "metadata": {},
     "output_type": "display_data"
    }
   ],
   "source": [
    "plt.imshow(findcorrelation(model1.components_.T, model2.components_.T))"
   ]
  }
 ],
 "metadata": {
  "kernelspec": {
   "display_name": "Environment (conda_anaconda3)",
   "language": "python",
   "name": "conda_anaconda3"
  },
  "language_info": {
   "codemirror_mode": {
    "name": "ipython",
    "version": 3
   },
   "file_extension": ".py",
   "mimetype": "text/x-python",
   "name": "python",
   "nbconvert_exporter": "python",
   "pygments_lexer": "ipython3",
   "version": "3.6.5"
  }
 },
 "nbformat": 4,
 "nbformat_minor": 2
}
