{
 "cells": [
  {
   "cell_type": "markdown",
   "metadata": {},
   "source": [
    "# A Simple Demo of staNMF"
   ]
  },
  {
   "cell_type": "code",
   "execution_count": 1,
   "metadata": {},
   "outputs": [
    {
     "name": "stderr",
     "output_type": "stream",
     "text": [
      "/home/ubuntu/anaconda3/lib/python3.6/site-packages/sklearn/utils/deprecation.py:144: FutureWarning: The sklearn.decomposition.nmf module is  deprecated in version 0.22 and will be removed in version 0.24. The corresponding classes / functions should instead be imported from sklearn.decomposition. Anything that cannot be imported from sklearn.decomposition is now part of the private API.\n",
      "  warnings.warn(message, FutureWarning)\n"
     ]
    }
   ],
   "source": [
    "from staNMF import staNMF, load_example\n",
    "from staNMF.nmf_models import spams_nmf, sklearn_nmf\n",
    "import numpy as np\n",
    "import pandas as pd"
   ]
  },
  {
   "cell_type": "code",
   "execution_count": 2,
   "metadata": {},
   "outputs": [],
   "source": [
    "# load_data\n",
    "X = load_example(reweight=True)"
   ]
  },
  {
   "cell_type": "code",
   "execution_count": 22,
   "metadata": {},
   "outputs": [],
   "source": [
    "# define_model\n",
    "model = staNMF(X,folderID=\"sklearn_weight\", K1=15, K2=25, parallel=True, replicates=90, seed=123, processes=9)"
   ]
  },
  {
   "cell_type": "code",
   "execution_count": 23,
   "metadata": {},
   "outputs": [],
   "source": [
    "model.NMF_finished = True"
   ]
  },
  {
   "cell_type": "code",
   "execution_count": null,
   "metadata": {
    "scrolled": true
   },
   "outputs": [
    {
     "name": "stdout",
     "output_type": "stream",
     "text": [
      "Working on K = 15...\n",
      "Working on K = 16...\n",
      "Working on K = 17...\n",
      "Working on K = 18...\n",
      "Working on K = 19...\n",
      "Working on K = 20...\n",
      "Working on K = 21...\n",
      "Working on K = 22...\n",
      "Working on K = 23...\n",
      "Working on K = 24...\n"
     ]
    }
   ],
   "source": [
    "# run NMF for different Ks\n",
    "model.runNMF(spams_nmf(bootstrap=False))"
   ]
  },
  {
   "cell_type": "code",
   "execution_count": 24,
   "metadata": {},
   "outputs": [
    {
     "name": "stdout",
     "output_type": "stream",
     "text": [
      "Calculating instability for 15\n",
      "Calculating instability for 16\n",
      "Calculating instability for 17\n",
      "Calculating instability for 18\n",
      "Calculating instability for 19\n",
      "Calculating instability for 20\n",
      "Calculating instability for 21\n",
      "Calculating instability for 22\n",
      "Calculating instability for 23\n",
      "Calculating instability for 24\n",
      "Calculating instability for 25\n"
     ]
    }
   ],
   "source": [
    "# compute the instability\n",
    "model.instability(\"sklearn_nmf\")"
   ]
  },
  {
   "cell_type": "code",
   "execution_count": 27,
   "metadata": {},
   "outputs": [
    {
     "data": {
      "image/png": "[encoded data removed]",
      "text/plain": [
       "<Figure size 432x288 with 1 Axes>"
      ]
     },
     "metadata": {},
     "output_type": "display_data"
    }
   ],
   "source": [
    "# visualize the instability result\n",
    "model.plot(dataset_title=\"sklearn stability\", ymin=0.1)"
   ]
  },
  {
   "cell_type": "code",
   "execution_count": 28,
   "metadata": {},
   "outputs": [
    {
     "data": {
      "text/plain": [
       "{15: 0.12407345612092183,\n",
       " 16: 0.1283929578133856,\n",
       " 17: 0.1359986339802659,\n",
       " 18: 0.1348594730555674,\n",
       " 19: 0.12338149940512125,\n",
       " 20: 0.12254813674443756,\n",
       " 21: 0.11895867797223408,\n",
       " 22: 0.11598350859167803,\n",
       " 23: 0.12465242230367811,\n",
       " 24: 0.12773311196207607,\n",
       " 25: 0.1296491722588974}"
      ]
     },
     "execution_count": 28,
     "metadata": {},
     "output_type": "execute_result"
    }
   ],
   "source": [
    "model.get_instability()"
   ]
  },
  {
   "cell_type": "markdown",
   "metadata": {},
   "source": [
    "### The result should be a png file in the current folder."
   ]
  }
 ],
 "metadata": {
  "kernelspec": {
   "display_name": "Environment (conda_anaconda3)",
   "language": "python",
   "name": "conda_anaconda3"
  },
  "language_info": {
   "codemirror_mode": {
    "name": "ipython",
    "version": 3
   },
   "file_extension": ".py",
   "mimetype": "text/x-python",
   "name": "python",
   "nbconvert_exporter": "python",
   "pygments_lexer": "ipython3",
   "version": "3.6.5"
  }
 },
 "nbformat": 4,
 "nbformat_minor": 2
}
